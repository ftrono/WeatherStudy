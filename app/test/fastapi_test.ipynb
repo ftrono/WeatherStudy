{
 "cells": [
  {
   "cell_type": "markdown",
   "metadata": {},
   "source": [
    "## **Test FastAPI Endpoint**"
   ]
  },
  {
   "cell_type": "code",
   "execution_count": 11,
   "metadata": {},
   "outputs": [],
   "source": [
    "import os, json, requests, random\n",
    "import pandas as pd"
   ]
  },
  {
   "cell_type": "code",
   "execution_count": 12,
   "metadata": {},
   "outputs": [],
   "source": [
    "# HOW TO TEST:\n",
    "ENDPOINT = \"http://localhost:3001/weather\"\n",
    "\n",
    "SAMPLE_STRUCTURE = {\n",
    "    \"feat1\": 0.0, \n",
    "    \"feat2\": \"XY\",\n",
    "    \"feat3\": 1.5\n",
    "}"
   ]
  },
  {
   "cell_type": "markdown",
   "metadata": {},
   "source": [
    "Generate test dict"
   ]
  },
  {
   "cell_type": "code",
   "execution_count": 13,
   "metadata": {},
   "outputs": [
    {
     "name": "stdout",
     "output_type": "stream",
     "text": [
      "Testing with file: sample_8.json\n",
      "{'Date': '2013-03-18', 'Location': 'Watsonia', 'MinTemp': 10.3, 'MaxTemp': 20.8, 'Rainfall': 0, 'Evaporation': 2.4, 'Sunshine': 4.7, 'WindGustDir': 'SSW', 'WindGustSpeed': 31, 'WindDir9am': 'N', 'WindDir3pm': 'S', 'WindSpeed9am': 2, 'WindSpeed3pm': 13, 'Humidity9am': 87, 'Humidity3pm': 62, 'Pressure9am': 1024, 'Pressure3pm': 1023, 'Cloud9am': 7, 'Cloud3pm': 7, 'Temp9am': 13.7, 'Temp3pm': 18.2, 'RainToday': 'No'}\n"
     ]
    }
   ],
   "source": [
    "#perform a random test:\n",
    "fname = f\"sample_{random.randint(1, 10)}.json\"\n",
    "test_json = json.load(open(os.path.join(\"..\", \"test_json\", fname)))\n",
    "print(f\"Testing with file: {fname}\")\n",
    "\n",
    "model_input = test_json[\"X\"]\n",
    "\n",
    "print(model_input)"
   ]
  },
  {
   "cell_type": "markdown",
   "metadata": {},
   "source": [
    "Test"
   ]
  },
  {
   "cell_type": "code",
   "execution_count": 14,
   "metadata": {},
   "outputs": [
    {
     "data": {
      "text/plain": [
       "{'RainTomorrow': 0}"
      ]
     },
     "execution_count": 14,
     "metadata": {},
     "output_type": "execute_result"
    }
   ],
   "source": [
    "#TEST:\n",
    "response = requests.post(ENDPOINT, headers={\"Content-Type\": \"application/json\"}, json=model_input, timeout=10)\n",
    "response.json()"
   ]
  }
 ],
 "metadata": {
  "kernelspec": {
   "display_name": "py312",
   "language": "python",
   "name": "python3"
  },
  "language_info": {
   "codemirror_mode": {
    "name": "ipython",
    "version": 3
   },
   "file_extension": ".py",
   "mimetype": "text/x-python",
   "name": "python",
   "nbconvert_exporter": "python",
   "pygments_lexer": "ipython3",
   "version": "3.12.7"
  }
 },
 "nbformat": 4,
 "nbformat_minor": 2
}
