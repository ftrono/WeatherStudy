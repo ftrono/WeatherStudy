{
 "cells": [
  {
   "cell_type": "markdown",
   "metadata": {},
   "source": [
    "## **Test MLFlow Docker Endpoint**"
   ]
  },
  {
   "cell_type": "code",
   "execution_count": 1,
   "metadata": {},
   "outputs": [],
   "source": [
    "import os, json, requests, random\n",
    "import pandas as pd"
   ]
  },
  {
   "cell_type": "code",
   "execution_count": 2,
   "metadata": {},
   "outputs": [],
   "source": [
    "# HOW TO TEST:\n",
    "ENDPOINT = \"http://localhost:5001/invocations\"\n",
    "\n",
    "SAMPLE_STRUCTURE = {\n",
    "    \"columns\": [\"feature1\", \"feature2\"], \n",
    "    \"data\": [[5.1, 3.5]],\n",
    "    \"index\": [0]\n",
    "}"
   ]
  },
  {
   "cell_type": "markdown",
   "metadata": {},
   "source": [
    "Generate test dict"
   ]
  },
  {
   "cell_type": "code",
   "execution_count": 3,
   "metadata": {},
   "outputs": [
    {
     "name": "stdout",
     "output_type": "stream",
     "text": [
      "Testing with file: sample_10.json\n",
      "{'dataframe_split': {'index': [0], 'columns': ['Date', 'Location', 'MinTemp', 'MaxTemp', 'Rainfall', 'Evaporation', 'Sunshine', 'WindGustDir', 'WindGustSpeed', 'WindDir9am', 'WindDir3pm', 'WindSpeed9am', 'WindSpeed3pm', 'Humidity9am', 'Humidity3pm', 'Pressure9am', 'Pressure3pm', 'Cloud9am', 'Cloud3pm', 'Temp9am', 'Temp3pm', 'RainToday'], 'data': [['2009-04-02', 'Canberra', 15.1, 22.9, 1.2, 2.8, 0.7, 'E', 31, 'SSE', 'E', 9, 20, 91, 61, 1025.5, 1023, 8, 7, 16.9, 22.3, 'Yes']]}}\n"
     ]
    }
   ],
   "source": [
    "#perform a random test:\n",
    "fname = f\"sample_{random.randint(1, 10)}.json\"\n",
    "test_json = json.load(open(os.path.join(\"..\", \"test_json\", fname)))\n",
    "print(f\"Testing with file: {fname}\")\n",
    "\n",
    "test_part = test_json[\"X\"]\n",
    "model_input = {\"dataframe_split\": pd.DataFrame(data=test_part, index=[0]).to_dict(orient=\"split\")}\n",
    "\n",
    "print(model_input)"
   ]
  },
  {
   "cell_type": "markdown",
   "metadata": {},
   "source": [
    "Test"
   ]
  },
  {
   "cell_type": "code",
   "execution_count": 4,
   "metadata": {},
   "outputs": [
    {
     "data": {
      "text/plain": [
       "{'predictions': [0]}"
      ]
     },
     "execution_count": 4,
     "metadata": {},
     "output_type": "execute_result"
    }
   ],
   "source": [
    "#TEST:\n",
    "response = requests.post(ENDPOINT, headers={\"Content-Type\": \"application/json\"}, json=model_input, timeout=10)\n",
    "response.json()"
   ]
  }
 ],
 "metadata": {
  "kernelspec": {
   "display_name": "py312",
   "language": "python",
   "name": "python3"
  },
  "language_info": {
   "codemirror_mode": {
    "name": "ipython",
    "version": 3
   },
   "file_extension": ".py",
   "mimetype": "text/x-python",
   "name": "python",
   "nbconvert_exporter": "python",
   "pygments_lexer": "ipython3",
   "version": "3.12.7"
  }
 },
 "nbformat": 4,
 "nbformat_minor": 2
}
