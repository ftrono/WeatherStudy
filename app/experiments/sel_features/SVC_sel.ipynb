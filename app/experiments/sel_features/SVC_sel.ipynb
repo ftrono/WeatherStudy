{
 "cells": [
  {
   "cell_type": "markdown",
   "metadata": {},
   "source": [
    "## **Weather forecasts: model study**\n",
    "\n",
    "#### **Model: Linear SVC**"
   ]
  },
  {
   "cell_type": "code",
   "execution_count": 1,
   "metadata": {},
   "outputs": [],
   "source": [
    "import os\n",
    "import numpy as np\n",
    "import pandas as pd\n",
    "import matplotlib.pyplot as plt\n",
    "from sklearn.model_selection import GridSearchCV, train_test_split\n",
    "from sklearn.metrics import confusion_matrix, accuracy_score, precision_recall_fscore_support\n",
    "from sklearn.compose import ColumnTransformer\n",
    "from sklearn.preprocessing import StandardScaler, OrdinalEncoder\n",
    "from sklearn.pipeline import Pipeline\n",
    "from sklearn.feature_selection import SelectPercentile, mutual_info_classif\n",
    "from sklearn.svm import LinearSVC"
   ]
  },
  {
   "cell_type": "markdown",
   "metadata": {},
   "source": [
    "**Params**"
   ]
  },
  {
   "cell_type": "code",
   "execution_count": null,
   "metadata": {},
   "outputs": [],
   "source": [
    "DATASET = os.path.join(\"..\", \"..\", \"datasets\", \"weather.csv\")\n",
    "TEST_PCT = 0.30\n",
    "FEATURES_TO_REMOVE = [\"Unnamed: 0\", \"Date\", \"Location\", \"Evaporation\", \"Sunshine\", \"Cloud9am\", \"Cloud3pm\", \"RainToday\"]\n",
    "TARGET = \"RainTomorrow\"\n",
    "MODELNAME = \"LinearSVC\"\n",
    "\n",
    "PARAM_GRID = {\n",
    "    \"feature_selection__percentile\": [10, 20, 30, 40, 50]\n",
    "}"
   ]
  },
  {
   "cell_type": "markdown",
   "metadata": {},
   "source": [
    "Load dataset and clean NaN (see DataAnalysis.ipynb)"
   ]
  },
  {
   "cell_type": "code",
   "execution_count": 3,
   "metadata": {},
   "outputs": [
    {
     "data": {
      "text/html": [
       "<div>\n",
       "<style scoped>\n",
       "    .dataframe tbody tr th:only-of-type {\n",
       "        vertical-align: middle;\n",
       "    }\n",
       "\n",
       "    .dataframe tbody tr th {\n",
       "        vertical-align: top;\n",
       "    }\n",
       "\n",
       "    .dataframe thead th {\n",
       "        text-align: right;\n",
       "    }\n",
       "</style>\n",
       "<table border=\"1\" class=\"dataframe\">\n",
       "  <thead>\n",
       "    <tr style=\"text-align: right;\">\n",
       "      <th></th>\n",
       "      <th>MinTemp</th>\n",
       "      <th>MaxTemp</th>\n",
       "      <th>Rainfall</th>\n",
       "      <th>WindGustDir</th>\n",
       "      <th>WindGustSpeed</th>\n",
       "      <th>WindDir9am</th>\n",
       "      <th>WindDir3pm</th>\n",
       "      <th>WindSpeed9am</th>\n",
       "      <th>WindSpeed3pm</th>\n",
       "      <th>Humidity9am</th>\n",
       "      <th>Humidity3pm</th>\n",
       "      <th>Pressure9am</th>\n",
       "      <th>Pressure3pm</th>\n",
       "      <th>Temp9am</th>\n",
       "      <th>Temp3pm</th>\n",
       "      <th>RainTomorrow</th>\n",
       "    </tr>\n",
       "  </thead>\n",
       "  <tbody>\n",
       "    <tr>\n",
       "      <th>0</th>\n",
       "      <td>13.4</td>\n",
       "      <td>22.9</td>\n",
       "      <td>0.6</td>\n",
       "      <td>W</td>\n",
       "      <td>44.0</td>\n",
       "      <td>W</td>\n",
       "      <td>WNW</td>\n",
       "      <td>20.0</td>\n",
       "      <td>24.0</td>\n",
       "      <td>71.0</td>\n",
       "      <td>22.0</td>\n",
       "      <td>1007.7</td>\n",
       "      <td>1007.1</td>\n",
       "      <td>16.9</td>\n",
       "      <td>21.8</td>\n",
       "      <td>No</td>\n",
       "    </tr>\n",
       "    <tr>\n",
       "      <th>1</th>\n",
       "      <td>7.4</td>\n",
       "      <td>25.1</td>\n",
       "      <td>0.0</td>\n",
       "      <td>WNW</td>\n",
       "      <td>44.0</td>\n",
       "      <td>NNW</td>\n",
       "      <td>WSW</td>\n",
       "      <td>4.0</td>\n",
       "      <td>22.0</td>\n",
       "      <td>44.0</td>\n",
       "      <td>25.0</td>\n",
       "      <td>1010.6</td>\n",
       "      <td>1007.8</td>\n",
       "      <td>17.2</td>\n",
       "      <td>24.3</td>\n",
       "      <td>No</td>\n",
       "    </tr>\n",
       "    <tr>\n",
       "      <th>2</th>\n",
       "      <td>12.9</td>\n",
       "      <td>25.7</td>\n",
       "      <td>0.0</td>\n",
       "      <td>WSW</td>\n",
       "      <td>46.0</td>\n",
       "      <td>W</td>\n",
       "      <td>WSW</td>\n",
       "      <td>19.0</td>\n",
       "      <td>26.0</td>\n",
       "      <td>38.0</td>\n",
       "      <td>30.0</td>\n",
       "      <td>1007.6</td>\n",
       "      <td>1008.7</td>\n",
       "      <td>21.0</td>\n",
       "      <td>23.2</td>\n",
       "      <td>No</td>\n",
       "    </tr>\n",
       "    <tr>\n",
       "      <th>3</th>\n",
       "      <td>9.2</td>\n",
       "      <td>28.0</td>\n",
       "      <td>0.0</td>\n",
       "      <td>NE</td>\n",
       "      <td>24.0</td>\n",
       "      <td>SE</td>\n",
       "      <td>E</td>\n",
       "      <td>11.0</td>\n",
       "      <td>9.0</td>\n",
       "      <td>45.0</td>\n",
       "      <td>16.0</td>\n",
       "      <td>1017.6</td>\n",
       "      <td>1012.8</td>\n",
       "      <td>18.1</td>\n",
       "      <td>26.5</td>\n",
       "      <td>No</td>\n",
       "    </tr>\n",
       "    <tr>\n",
       "      <th>4</th>\n",
       "      <td>17.5</td>\n",
       "      <td>32.3</td>\n",
       "      <td>1.0</td>\n",
       "      <td>W</td>\n",
       "      <td>41.0</td>\n",
       "      <td>ENE</td>\n",
       "      <td>NW</td>\n",
       "      <td>7.0</td>\n",
       "      <td>20.0</td>\n",
       "      <td>82.0</td>\n",
       "      <td>33.0</td>\n",
       "      <td>1010.8</td>\n",
       "      <td>1006.0</td>\n",
       "      <td>17.8</td>\n",
       "      <td>29.7</td>\n",
       "      <td>No</td>\n",
       "    </tr>\n",
       "    <tr>\n",
       "      <th>...</th>\n",
       "      <td>...</td>\n",
       "      <td>...</td>\n",
       "      <td>...</td>\n",
       "      <td>...</td>\n",
       "      <td>...</td>\n",
       "      <td>...</td>\n",
       "      <td>...</td>\n",
       "      <td>...</td>\n",
       "      <td>...</td>\n",
       "      <td>...</td>\n",
       "      <td>...</td>\n",
       "      <td>...</td>\n",
       "      <td>...</td>\n",
       "      <td>...</td>\n",
       "      <td>...</td>\n",
       "      <td>...</td>\n",
       "    </tr>\n",
       "    <tr>\n",
       "      <th>112920</th>\n",
       "      <td>3.5</td>\n",
       "      <td>21.8</td>\n",
       "      <td>0.0</td>\n",
       "      <td>E</td>\n",
       "      <td>31.0</td>\n",
       "      <td>ESE</td>\n",
       "      <td>E</td>\n",
       "      <td>15.0</td>\n",
       "      <td>13.0</td>\n",
       "      <td>59.0</td>\n",
       "      <td>27.0</td>\n",
       "      <td>1024.7</td>\n",
       "      <td>1021.2</td>\n",
       "      <td>9.4</td>\n",
       "      <td>20.9</td>\n",
       "      <td>No</td>\n",
       "    </tr>\n",
       "    <tr>\n",
       "      <th>112921</th>\n",
       "      <td>2.8</td>\n",
       "      <td>23.4</td>\n",
       "      <td>0.0</td>\n",
       "      <td>E</td>\n",
       "      <td>31.0</td>\n",
       "      <td>SE</td>\n",
       "      <td>ENE</td>\n",
       "      <td>13.0</td>\n",
       "      <td>11.0</td>\n",
       "      <td>51.0</td>\n",
       "      <td>24.0</td>\n",
       "      <td>1024.6</td>\n",
       "      <td>1020.3</td>\n",
       "      <td>10.1</td>\n",
       "      <td>22.4</td>\n",
       "      <td>No</td>\n",
       "    </tr>\n",
       "    <tr>\n",
       "      <th>112922</th>\n",
       "      <td>3.6</td>\n",
       "      <td>25.3</td>\n",
       "      <td>0.0</td>\n",
       "      <td>NNW</td>\n",
       "      <td>22.0</td>\n",
       "      <td>SE</td>\n",
       "      <td>N</td>\n",
       "      <td>13.0</td>\n",
       "      <td>9.0</td>\n",
       "      <td>56.0</td>\n",
       "      <td>21.0</td>\n",
       "      <td>1023.5</td>\n",
       "      <td>1019.1</td>\n",
       "      <td>10.9</td>\n",
       "      <td>24.5</td>\n",
       "      <td>No</td>\n",
       "    </tr>\n",
       "    <tr>\n",
       "      <th>112923</th>\n",
       "      <td>5.4</td>\n",
       "      <td>26.9</td>\n",
       "      <td>0.0</td>\n",
       "      <td>N</td>\n",
       "      <td>37.0</td>\n",
       "      <td>SE</td>\n",
       "      <td>WNW</td>\n",
       "      <td>9.0</td>\n",
       "      <td>9.0</td>\n",
       "      <td>53.0</td>\n",
       "      <td>24.0</td>\n",
       "      <td>1021.0</td>\n",
       "      <td>1016.8</td>\n",
       "      <td>12.5</td>\n",
       "      <td>26.1</td>\n",
       "      <td>No</td>\n",
       "    </tr>\n",
       "    <tr>\n",
       "      <th>112924</th>\n",
       "      <td>7.8</td>\n",
       "      <td>27.0</td>\n",
       "      <td>0.0</td>\n",
       "      <td>SE</td>\n",
       "      <td>28.0</td>\n",
       "      <td>SSE</td>\n",
       "      <td>N</td>\n",
       "      <td>13.0</td>\n",
       "      <td>7.0</td>\n",
       "      <td>51.0</td>\n",
       "      <td>24.0</td>\n",
       "      <td>1019.4</td>\n",
       "      <td>1016.5</td>\n",
       "      <td>15.1</td>\n",
       "      <td>26.0</td>\n",
       "      <td>No</td>\n",
       "    </tr>\n",
       "  </tbody>\n",
       "</table>\n",
       "<p>112925 rows × 16 columns</p>\n",
       "</div>"
      ],
      "text/plain": [
       "        MinTemp  MaxTemp  Rainfall WindGustDir  WindGustSpeed WindDir9am  \\\n",
       "0          13.4     22.9       0.6           W           44.0          W   \n",
       "1           7.4     25.1       0.0         WNW           44.0        NNW   \n",
       "2          12.9     25.7       0.0         WSW           46.0          W   \n",
       "3           9.2     28.0       0.0          NE           24.0         SE   \n",
       "4          17.5     32.3       1.0           W           41.0        ENE   \n",
       "...         ...      ...       ...         ...            ...        ...   \n",
       "112920      3.5     21.8       0.0           E           31.0        ESE   \n",
       "112921      2.8     23.4       0.0           E           31.0         SE   \n",
       "112922      3.6     25.3       0.0         NNW           22.0         SE   \n",
       "112923      5.4     26.9       0.0           N           37.0         SE   \n",
       "112924      7.8     27.0       0.0          SE           28.0        SSE   \n",
       "\n",
       "       WindDir3pm  WindSpeed9am  WindSpeed3pm  Humidity9am  Humidity3pm  \\\n",
       "0             WNW          20.0          24.0         71.0         22.0   \n",
       "1             WSW           4.0          22.0         44.0         25.0   \n",
       "2             WSW          19.0          26.0         38.0         30.0   \n",
       "3               E          11.0           9.0         45.0         16.0   \n",
       "4              NW           7.0          20.0         82.0         33.0   \n",
       "...           ...           ...           ...          ...          ...   \n",
       "112920          E          15.0          13.0         59.0         27.0   \n",
       "112921        ENE          13.0          11.0         51.0         24.0   \n",
       "112922          N          13.0           9.0         56.0         21.0   \n",
       "112923        WNW           9.0           9.0         53.0         24.0   \n",
       "112924          N          13.0           7.0         51.0         24.0   \n",
       "\n",
       "        Pressure9am  Pressure3pm  Temp9am  Temp3pm RainTomorrow  \n",
       "0            1007.7       1007.1     16.9     21.8           No  \n",
       "1            1010.6       1007.8     17.2     24.3           No  \n",
       "2            1007.6       1008.7     21.0     23.2           No  \n",
       "3            1017.6       1012.8     18.1     26.5           No  \n",
       "4            1010.8       1006.0     17.8     29.7           No  \n",
       "...             ...          ...      ...      ...          ...  \n",
       "112920       1024.7       1021.2      9.4     20.9           No  \n",
       "112921       1024.6       1020.3     10.1     22.4           No  \n",
       "112922       1023.5       1019.1     10.9     24.5           No  \n",
       "112923       1021.0       1016.8     12.5     26.1           No  \n",
       "112924       1019.4       1016.5     15.1     26.0           No  \n",
       "\n",
       "[112925 rows x 16 columns]"
      ]
     },
     "execution_count": 3,
     "metadata": {},
     "output_type": "execute_result"
    }
   ],
   "source": [
    "data = pd.read_csv(DATASET)\n",
    "\n",
    "data = data.drop(columns=FEATURES_TO_REMOVE).dropna().reset_index(drop=True)\n",
    "data"
   ]
  },
  {
   "cell_type": "markdown",
   "metadata": {},
   "source": [
    "Prepare categorical to numerical conversion"
   ]
  },
  {
   "cell_type": "code",
   "execution_count": 4,
   "metadata": {},
   "outputs": [
    {
     "data": {
      "text/plain": [
       "MinTemp          float64\n",
       "MaxTemp          float64\n",
       "Rainfall         float64\n",
       "WindGustDir       object\n",
       "WindGustSpeed    float64\n",
       "WindDir9am        object\n",
       "WindDir3pm        object\n",
       "WindSpeed9am     float64\n",
       "WindSpeed3pm     float64\n",
       "Humidity9am      float64\n",
       "Humidity3pm      float64\n",
       "Pressure9am      float64\n",
       "Pressure3pm      float64\n",
       "Temp9am          float64\n",
       "Temp3pm          float64\n",
       "RainTomorrow      object\n",
       "dtype: object"
      ]
     },
     "execution_count": 4,
     "metadata": {},
     "output_type": "execute_result"
    }
   ],
   "source": [
    "data.dtypes"
   ]
  },
  {
   "cell_type": "code",
   "execution_count": 5,
   "metadata": {},
   "outputs": [],
   "source": [
    "# Lists of column names for different data types\n",
    "NUM_FEATS = data.select_dtypes(['float64']).columns.tolist()\n",
    "CAT_FEATS = data.select_dtypes(['object']).columns.tolist()\n",
    "CAT_FEATS.remove(TARGET)\n",
    "\n",
    "FEATURES = NUM_FEATS + CAT_FEATS\n",
    "\n",
    "#Encode target column:\n",
    "data[TARGET] = np.where(data[TARGET] == \"Yes\", 1, 0)\n",
    "\n",
    "# Create transformers for both numeric and categorical features\n",
    "NUM_TRANSFORM = Pipeline(\n",
    "    steps=[\n",
    "        (\"scaler\", StandardScaler()),\n",
    "    ]\n",
    ")\n",
    "CAT_TRANSFORM = Pipeline(\n",
    "    steps=[\n",
    "        (\"encoder\", OrdinalEncoder())\n",
    "    ]\n",
    ")"
   ]
  },
  {
   "cell_type": "code",
   "execution_count": 6,
   "metadata": {},
   "outputs": [],
   "source": [
    "# Combine the transformations in a ColumnTransformer\n",
    "preprocessor = ColumnTransformer(\n",
    "    transformers=[\n",
    "        ('num', NUM_TRANSFORM, NUM_FEATS),\n",
    "        ('cat', CAT_TRANSFORM, CAT_FEATS)\n",
    "    ]\n",
    ")"
   ]
  },
  {
   "cell_type": "markdown",
   "metadata": {},
   "source": [
    "Create targets"
   ]
  },
  {
   "cell_type": "code",
   "execution_count": 7,
   "metadata": {},
   "outputs": [],
   "source": [
    "X = data[FEATURES]\n",
    "Y = data[TARGET]"
   ]
  },
  {
   "cell_type": "markdown",
   "metadata": {},
   "source": [
    "Train / test split"
   ]
  },
  {
   "cell_type": "code",
   "execution_count": 8,
   "metadata": {},
   "outputs": [
    {
     "data": {
      "text/plain": [
       "((112925, 15), (112925,), (79047, 15), (79047,), (33878, 15), (33878,))"
      ]
     },
     "execution_count": 8,
     "metadata": {},
     "output_type": "execute_result"
    }
   ],
   "source": [
    "X_train, X_test, Y_train, Y_test = train_test_split(X, Y, test_size=TEST_PCT, random_state=42)\n",
    "\n",
    "X.shape, Y.shape, X_train.shape, Y_train.shape, X_test.shape, Y_test.shape"
   ]
  },
  {
   "cell_type": "markdown",
   "metadata": {},
   "source": [
    "Get pipeline"
   ]
  },
  {
   "cell_type": "code",
   "execution_count": 9,
   "metadata": {},
   "outputs": [],
   "source": [
    "sk_pipe = Pipeline(steps=[\n",
    "    ('preprocessor', preprocessor),\n",
    "    (\"feature_selection\", SelectPercentile(score_func=mutual_info_classif)),\n",
    "    ('classifier', LinearSVC(penalty='l2', random_state=42))\n",
    "])"
   ]
  },
  {
   "cell_type": "markdown",
   "metadata": {},
   "source": [
    "Cross Validation for feature selection\n",
    "\n",
    "Using \"balanced_accuracy\" as cross-validation metric, since it balances sensitivity (true positive rate or recall) and specificity (true negative rate) and it is generally used with imbalanced data (in the dataset, there are >26000 negative samples and only > 7600 positive samples)."
   ]
  },
  {
   "cell_type": "code",
   "execution_count": null,
   "metadata": {},
   "outputs": [
    {
     "name": "stdout",
     "output_type": "stream",
     "text": [
      "Fitting 5 folds for each of 5 candidates, totalling 25 fits\n"
     ]
    },
    {
     "name": "stderr",
     "output_type": "stream",
     "text": [
      "/home/ftrono/GitHub/WeatherStudy/py312/lib/python3.12/site-packages/numpy/ma/core.py:2881: RuntimeWarning: invalid value encountered in cast\n",
      "  _data = np.array(data, dtype=dtype, copy=copy,\n"
     ]
    },
    {
     "name": "stdout",
     "output_type": "stream",
     "text": [
      "Best Percentile: 50\n",
      "Best cross-validated score: 0.7051780111528684\n"
     ]
    }
   ],
   "source": [
    "# Find best model:\n",
    "grid_search = GridSearchCV(sk_pipe, PARAM_GRID, cv=5, scoring='balanced_accuracy', n_jobs=-1, verbose=1)\n",
    "grid_search.fit(X_train, Y_train)\n",
    "\n",
    "# Get the best model:\n",
    "best_percentile = grid_search.best_params_['feature_selection__percentile']\n",
    "best_score = grid_search.best_score_\n",
    "best_pipe = grid_search.best_estimator_\n",
    "\n",
    "print(f\"Best Percentile: {best_percentile}\")\n",
    "print(f\"Best cross-validated score: {best_score:.4f}\")"
   ]
  },
  {
   "cell_type": "markdown",
   "metadata": {},
   "source": [
    "Train model"
   ]
  },
  {
   "cell_type": "code",
   "execution_count": 11,
   "metadata": {},
   "outputs": [
    {
     "name": "stdout",
     "output_type": "stream",
     "text": [
      "Training complete.\n"
     ]
    }
   ],
   "source": [
    "best_pipe.fit(X_train, Y_train)\n",
    "print(\"Training complete.\")"
   ]
  },
  {
   "cell_type": "markdown",
   "metadata": {},
   "source": [
    "Get predictions"
   ]
  },
  {
   "cell_type": "code",
   "execution_count": 12,
   "metadata": {},
   "outputs": [],
   "source": [
    "#PREDICT:\n",
    "Y_preds = best_pipe.predict(X_test)"
   ]
  },
  {
   "cell_type": "code",
   "execution_count": 13,
   "metadata": {},
   "outputs": [
    {
     "data": {
      "text/html": [
       "<div>\n",
       "<style scoped>\n",
       "    .dataframe tbody tr th:only-of-type {\n",
       "        vertical-align: middle;\n",
       "    }\n",
       "\n",
       "    .dataframe tbody tr th {\n",
       "        vertical-align: top;\n",
       "    }\n",
       "\n",
       "    .dataframe thead th {\n",
       "        text-align: right;\n",
       "    }\n",
       "</style>\n",
       "<table border=\"1\" class=\"dataframe\">\n",
       "  <thead>\n",
       "    <tr style=\"text-align: right;\">\n",
       "      <th></th>\n",
       "      <th>RowID</th>\n",
       "      <th>Y_test</th>\n",
       "      <th>Y_Pred</th>\n",
       "    </tr>\n",
       "  </thead>\n",
       "  <tbody>\n",
       "    <tr>\n",
       "      <th>0</th>\n",
       "      <td>108475</td>\n",
       "      <td>0</td>\n",
       "      <td>0</td>\n",
       "    </tr>\n",
       "    <tr>\n",
       "      <th>1</th>\n",
       "      <td>76656</td>\n",
       "      <td>0</td>\n",
       "      <td>0</td>\n",
       "    </tr>\n",
       "    <tr>\n",
       "      <th>2</th>\n",
       "      <td>22886</td>\n",
       "      <td>0</td>\n",
       "      <td>0</td>\n",
       "    </tr>\n",
       "    <tr>\n",
       "      <th>3</th>\n",
       "      <td>10740</td>\n",
       "      <td>0</td>\n",
       "      <td>0</td>\n",
       "    </tr>\n",
       "    <tr>\n",
       "      <th>4</th>\n",
       "      <td>1116</td>\n",
       "      <td>0</td>\n",
       "      <td>0</td>\n",
       "    </tr>\n",
       "    <tr>\n",
       "      <th>...</th>\n",
       "      <td>...</td>\n",
       "      <td>...</td>\n",
       "      <td>...</td>\n",
       "    </tr>\n",
       "    <tr>\n",
       "      <th>33873</th>\n",
       "      <td>32638</td>\n",
       "      <td>1</td>\n",
       "      <td>1</td>\n",
       "    </tr>\n",
       "    <tr>\n",
       "      <th>33874</th>\n",
       "      <td>72698</td>\n",
       "      <td>0</td>\n",
       "      <td>0</td>\n",
       "    </tr>\n",
       "    <tr>\n",
       "      <th>33875</th>\n",
       "      <td>60778</td>\n",
       "      <td>0</td>\n",
       "      <td>0</td>\n",
       "    </tr>\n",
       "    <tr>\n",
       "      <th>33876</th>\n",
       "      <td>88615</td>\n",
       "      <td>0</td>\n",
       "      <td>0</td>\n",
       "    </tr>\n",
       "    <tr>\n",
       "      <th>33877</th>\n",
       "      <td>87004</td>\n",
       "      <td>0</td>\n",
       "      <td>0</td>\n",
       "    </tr>\n",
       "  </tbody>\n",
       "</table>\n",
       "<p>33878 rows × 3 columns</p>\n",
       "</div>"
      ],
      "text/plain": [
       "        RowID  Y_test  Y_Pred\n",
       "0      108475       0       0\n",
       "1       76656       0       0\n",
       "2       22886       0       0\n",
       "3       10740       0       0\n",
       "4        1116       0       0\n",
       "...       ...     ...     ...\n",
       "33873   32638       1       1\n",
       "33874   72698       0       0\n",
       "33875   60778       0       0\n",
       "33876   88615       0       0\n",
       "33877   87004       0       0\n",
       "\n",
       "[33878 rows x 3 columns]"
      ]
     },
     "execution_count": 13,
     "metadata": {},
     "output_type": "execute_result"
    }
   ],
   "source": [
    "#add to Test set:\n",
    "data_test = pd.DataFrame(data={\"Y_test\": Y_test, \"Y_Pred\": Y_preds})\n",
    "data_test.reset_index(inplace=True)\n",
    "data_test.rename(columns={\"index\": \"RowID\"}, inplace=True)\n",
    "data_test"
   ]
  },
  {
   "cell_type": "markdown",
   "metadata": {},
   "source": [
    "**Metrics**\n",
    "\n",
    "Get confusion matrix"
   ]
  },
  {
   "cell_type": "code",
   "execution_count": 14,
   "metadata": {},
   "outputs": [
    {
     "data": {
      "text/html": [
       "<div>\n",
       "<style scoped>\n",
       "    .dataframe tbody tr th:only-of-type {\n",
       "        vertical-align: middle;\n",
       "    }\n",
       "\n",
       "    .dataframe tbody tr th {\n",
       "        vertical-align: top;\n",
       "    }\n",
       "\n",
       "    .dataframe thead th {\n",
       "        text-align: right;\n",
       "    }\n",
       "</style>\n",
       "<table border=\"1\" class=\"dataframe\">\n",
       "  <thead>\n",
       "    <tr style=\"text-align: right;\">\n",
       "      <th></th>\n",
       "      <th>Pred 0</th>\n",
       "      <th>Pred 1</th>\n",
       "      <th>Tot Act</th>\n",
       "    </tr>\n",
       "  </thead>\n",
       "  <tbody>\n",
       "    <tr>\n",
       "      <th>Act 0</th>\n",
       "      <td>25086</td>\n",
       "      <td>1166</td>\n",
       "      <td>26252</td>\n",
       "    </tr>\n",
       "    <tr>\n",
       "      <th>Act 1</th>\n",
       "      <td>4128</td>\n",
       "      <td>3498</td>\n",
       "      <td>7626</td>\n",
       "    </tr>\n",
       "    <tr>\n",
       "      <th>Tot Pred</th>\n",
       "      <td>29214</td>\n",
       "      <td>4664</td>\n",
       "      <td>33878</td>\n",
       "    </tr>\n",
       "  </tbody>\n",
       "</table>\n",
       "</div>"
      ],
      "text/plain": [
       "          Pred 0  Pred 1  Tot Act\n",
       "Act 0      25086    1166    26252\n",
       "Act 1       4128    3498     7626\n",
       "Tot Pred   29214    4664    33878"
      ]
     },
     "execution_count": 14,
     "metadata": {},
     "output_type": "execute_result"
    }
   ],
   "source": [
    "conf_matrix = pd.DataFrame(data=confusion_matrix(Y_test, Y_preds), columns=[\"Pred 0\", \"Pred 1\"])\n",
    "\n",
    "#Add matrix labels & totals:\n",
    "conf_matrix[\"Tot Act\"] = conf_matrix.aggregate(\"sum\", axis=1)\n",
    "conf_matrix.loc[len(conf_matrix.index)] = conf_matrix.aggregate(\"sum\", axis=0)\n",
    "conf_matrix.index=[\"Act 0\", \"Act 1\", \"Tot Pred\"]\n",
    "\n",
    "conf_matrix"
   ]
  },
  {
   "cell_type": "markdown",
   "metadata": {},
   "source": [
    "Calculate metrics"
   ]
  },
  {
   "cell_type": "code",
   "execution_count": 15,
   "metadata": {},
   "outputs": [
    {
     "name": "stdout",
     "output_type": "stream",
     "text": [
      "Accuracy: 84.4%\n"
     ]
    },
    {
     "data": {
      "text/html": [
       "<div>\n",
       "<style scoped>\n",
       "    .dataframe tbody tr th:only-of-type {\n",
       "        vertical-align: middle;\n",
       "    }\n",
       "\n",
       "    .dataframe tbody tr th {\n",
       "        vertical-align: top;\n",
       "    }\n",
       "\n",
       "    .dataframe thead th {\n",
       "        text-align: right;\n",
       "    }\n",
       "</style>\n",
       "<table border=\"1\" class=\"dataframe\">\n",
       "  <thead>\n",
       "    <tr style=\"text-align: right;\">\n",
       "      <th></th>\n",
       "      <th>No</th>\n",
       "      <th>Yes</th>\n",
       "    </tr>\n",
       "  </thead>\n",
       "  <tbody>\n",
       "    <tr>\n",
       "      <th>Precision</th>\n",
       "      <td>0.86</td>\n",
       "      <td>0.75</td>\n",
       "    </tr>\n",
       "    <tr>\n",
       "      <th>Recall</th>\n",
       "      <td>0.96</td>\n",
       "      <td>0.46</td>\n",
       "    </tr>\n",
       "    <tr>\n",
       "      <th>F-score</th>\n",
       "      <td>0.90</td>\n",
       "      <td>0.57</td>\n",
       "    </tr>\n",
       "    <tr>\n",
       "      <th>Support</th>\n",
       "      <td>26252.00</td>\n",
       "      <td>7626.00</td>\n",
       "    </tr>\n",
       "  </tbody>\n",
       "</table>\n",
       "</div>"
      ],
      "text/plain": [
       "                 No      Yes\n",
       "Precision      0.86     0.75\n",
       "Recall         0.96     0.46\n",
       "F-score        0.90     0.57\n",
       "Support    26252.00  7626.00"
      ]
     },
     "execution_count": 15,
     "metadata": {},
     "output_type": "execute_result"
    }
   ],
   "source": [
    "accuracy = accuracy_score(Y_test, Y_preds)\n",
    "print(f\"Accuracy: {accuracy*100:.1f}%\")\n",
    "\n",
    "metrics = {}\n",
    "\n",
    "metrics[\"Precision\"], metrics[\"Recall\"], metrics[\"F-score\"], metrics[\"Support\"] = precision_recall_fscore_support(Y_test, Y_preds)\n",
    "\n",
    "df_metrics = pd.DataFrame(data=metrics).T\n",
    "df_metrics.columns = [\"No\", \"Yes\"]\n",
    "df_metrics = df_metrics.round(2)\n",
    "df_metrics"
   ]
  },
  {
   "cell_type": "markdown",
   "metadata": {},
   "source": [
    "Feature importance"
   ]
  },
  {
   "cell_type": "code",
   "execution_count": 16,
   "metadata": {},
   "outputs": [
    {
     "name": "stdout",
     "output_type": "stream",
     "text": [
      "{'Rainfall': np.float64(0.04624725168738106), 'WindGustSpeed': np.float64(0.11801739413188239), 'Humidity9am': np.float64(0.027625792080049793), 'Humidity3pm': np.float64(0.2640678283981943), 'Pressure9am': np.float64(0.20633147912877042), 'Pressure3pm': np.float64(0.30184882499844296), 'Temp3pm': np.float64(0.035861429575278984)}\n"
     ]
    }
   ],
   "source": [
    "# Get selected features list:\n",
    "selected_mask = best_pipe.named_steps['feature_selection'].get_support()\n",
    "sel_features = X_train.columns[selected_mask]\n",
    "\n",
    "# Build features importance dict:\n",
    "imp_scores = np.abs(best_pipe.named_steps['classifier'].coef_).ravel()   # Flatten the array for easier viewing\n",
    "imp_scores = (imp_scores / imp_scores.sum())\n",
    "f_importance = {}\n",
    "\n",
    "for i in range(len(sel_features)):\n",
    "    f_importance[sel_features[i]] = imp_scores[i]\n",
    "print(f_importance)"
   ]
  },
  {
   "cell_type": "code",
   "execution_count": 17,
   "metadata": {},
   "outputs": [
    {
     "data": {
      "image/png": "[encoded data removed]",
      "text/plain": [
       "<Figure size 625x520.833 with 1 Axes>"
      ]
     },
     "metadata": {},
     "output_type": "display_data"
    }
   ],
   "source": [
    "# Plot:\n",
    "fig, sub1 = plt.subplots(1, 1, figsize=(600/96, 500/96), constrained_layout=True)\n",
    "fig.suptitle(f\"Feature importance per {MODELNAME} (in %)\", fontsize=10, fontweight='bold')\n",
    "\n",
    "xpos = np.arange(len(f_importance.keys()))\n",
    "ylist = [v*100 for v in f_importance.values()]\n",
    "sub1.bar(xpos, ylist, color='mediumseagreen')\n",
    "\n",
    "for x, y in zip(xpos, ylist):\n",
    "    lab = f\"{y:.1f}\"\n",
    "    xoff = 12 if len(lab) > 3 else 9\n",
    "    yoff = 4\n",
    "    plt.annotate(text=f\"{y:.1f}\",\n",
    "                xy=(x, y),\n",
    "                xytext=(-xoff, yoff), #distance from text to points (x,y)\n",
    "                textcoords=\"offset points\",\n",
    "                fontweight=\"bold\",\n",
    "                bbox=dict(boxstyle='round, pad=0', fc='white', ec='1'))\n",
    "\n",
    "sub1.set_xlabel(\"Feature\")\n",
    "sub1.set_ylabel(\"Weight %\")\n",
    "sub1.set_xticks(xpos)\n",
    "sub1.set_xticklabels(f_importance.keys(), rotation=90)\n",
    "plt.show()"
   ]
  }
 ],
 "metadata": {
  "kernelspec": {
   "display_name": "py312",
   "language": "python",
   "name": "python3"
  },
  "language_info": {
   "codemirror_mode": {
    "name": "ipython",
    "version": 3
   },
   "file_extension": ".py",
   "mimetype": "text/x-python",
   "name": "python",
   "nbconvert_exporter": "python",
   "pygments_lexer": "ipython3",
   "version": "3.12.7"
  }
 },
 "nbformat": 4,
 "nbformat_minor": 2
}
